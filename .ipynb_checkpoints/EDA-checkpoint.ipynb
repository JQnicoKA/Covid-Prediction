{
 "cells": [
  {
   "cell_type": "markdown",
   "metadata": {
    "colab_type": "text",
    "id": "view-in-github"
   },
   "source": [
    "<a href=\"https://colab.research.google.com/github/MachineLearnia/Python-Machine-Learning/blob/master/23%20-%20Sklearn%20Feature%20Selection.ipynb\" target=\"_parent\"><img src=\"https://colab.research.google.com/assets/colab-badge.svg\" alt=\"Open In Colab\"/></a>"
   ]
  },
  {
   "cell_type": "markdown",
   "metadata": {
    "colab_type": "text",
    "id": "TXrkkQh-w7ug"
   },
   "source": [
    "# 23/30 Sklearn : Feature Selection"
   ]
  },
  {
   "cell_type": "markdown",
   "metadata": {},
   "source": [
    "# Téléchargement du dataset"
   ]
  },
  {
   "cell_type": "code",
   "execution_count": 1,
   "metadata": {
    "colab": {},
    "colab_type": "code",
    "id": "89idlZn1xJr9"
   },
   "outputs": [],
   "source": [
    "import numpy as np\n",
    "import matplotlib.pyplot as plt\n",
    "import pandas as pd\n",
    "import os"
   ]
  },
  {
   "cell_type": "code",
   "execution_count": 2,
   "metadata": {},
   "outputs": [
    {
     "name": "stdout",
     "output_type": "stream",
     "text": [
      "Current working directory: /home/nico/Documents/Organisation/Projets/Projet MachineLearnIA\n"
     ]
    }
   ],
   "source": [
    "# Print the current working directory\n",
    "print(f\"Current working directory: {os.getcwd()}\")"
   ]
  },
  {
   "cell_type": "code",
   "execution_count": 3,
   "metadata": {},
   "outputs": [
    {
     "name": "stdout",
     "output_type": "stream",
     "text": [
      "Fichier chargé avec succès.\n",
      "(5644, 111)\n",
      "        Patient ID  Patient age quantile SARS-Cov-2 exam result  \\\n",
      "0  44477f75e8169d2                    13               negative   \n",
      "1  126e9dd13932f68                    17               negative   \n",
      "2  a46b4402a0e5696                     8               negative   \n",
      "3  f7d619a94f97c45                     5               negative   \n",
      "4  d9e41465789c2b5                    15               negative   \n",
      "\n",
      "   Patient addmited to regular ward (1=yes, 0=no)  \\\n",
      "0                                               0   \n",
      "1                                               0   \n",
      "2                                               0   \n",
      "3                                               0   \n",
      "4                                               0   \n",
      "\n",
      "   Patient addmited to semi-intensive unit (1=yes, 0=no)  \\\n",
      "0                                                  0       \n",
      "1                                                  0       \n",
      "2                                                  0       \n",
      "3                                                  0       \n",
      "4                                                  0       \n",
      "\n",
      "   Patient addmited to intensive care unit (1=yes, 0=no)  Hematocrit  \\\n",
      "0                                                  0             NaN   \n",
      "1                                                  0        0.236515   \n",
      "2                                                  0             NaN   \n",
      "3                                                  0             NaN   \n",
      "4                                                  0             NaN   \n",
      "\n",
      "   Hemoglobin  Platelets  Mean platelet volume   ...  \\\n",
      "0         NaN        NaN                    NaN  ...   \n",
      "1    -0.02234  -0.517413               0.010677  ...   \n",
      "2         NaN        NaN                    NaN  ...   \n",
      "3         NaN        NaN                    NaN  ...   \n",
      "4         NaN        NaN                    NaN  ...   \n",
      "\n",
      "   Hb saturation (arterial blood gases)  pCO2 (arterial blood gas analysis)  \\\n",
      "0                                   NaN                                 NaN   \n",
      "1                                   NaN                                 NaN   \n",
      "2                                   NaN                                 NaN   \n",
      "3                                   NaN                                 NaN   \n",
      "4                                   NaN                                 NaN   \n",
      "\n",
      "   Base excess (arterial blood gas analysis)  \\\n",
      "0                                        NaN   \n",
      "1                                        NaN   \n",
      "2                                        NaN   \n",
      "3                                        NaN   \n",
      "4                                        NaN   \n",
      "\n",
      "   pH (arterial blood gas analysis)  Total CO2 (arterial blood gas analysis)  \\\n",
      "0                               NaN                                      NaN   \n",
      "1                               NaN                                      NaN   \n",
      "2                               NaN                                      NaN   \n",
      "3                               NaN                                      NaN   \n",
      "4                               NaN                                      NaN   \n",
      "\n",
      "   HCO3 (arterial blood gas analysis)  pO2 (arterial blood gas analysis)  \\\n",
      "0                                 NaN                                NaN   \n",
      "1                                 NaN                                NaN   \n",
      "2                                 NaN                                NaN   \n",
      "3                                 NaN                                NaN   \n",
      "4                                 NaN                                NaN   \n",
      "\n",
      "   Arteiral Fio2  Phosphor  ctO2 (arterial blood gas analysis)  \n",
      "0            NaN       NaN                                 NaN  \n",
      "1            NaN       NaN                                 NaN  \n",
      "2            NaN       NaN                                 NaN  \n",
      "3            NaN       NaN                                 NaN  \n",
      "4            NaN       NaN                                 NaN  \n",
      "\n",
      "[5 rows x 111 columns]\n"
     ]
    }
   ],
   "source": [
    "file_path = '/home/nico/Documents/Organisation/data/covid.csv'\n",
    "\n",
    "# Essayez d'ouvrir le fichier avec l'encodage 'ISO-8859-1'\n",
    "try:\n",
    "    dataset = pd.read_csv(file_path, encoding='ISO-8859-1')\n",
    "    print(\"Fichier chargé avec succès.\")\n",
    "except UnicodeDecodeError:\n",
    "    print(\"Erreur de décodage Unicode. Essayez un autre encodage.\")\n",
    "except Exception as e:\n",
    "    print(f\"Une erreur est survenue: {e}\")\n",
    "\n",
    "# Affichez les premières lignes du dataset pour vérifier\n",
    "\n",
    "print(dataset.shape)\n",
    "print(dataset.head())"
   ]
  },
  {
   "cell_type": "markdown",
   "metadata": {},
   "source": [
    "# Analyse de la forme"
   ]
  },
  {
   "cell_type": "markdown",
   "metadata": {},
   "source": [
    "Notre target est de prédire le résultat de : SARS-Cov-2 exam result"
   ]
  },
  {
   "cell_type": "markdown",
   "metadata": {},
   "source": [
    "Nous avons 5644 lignes et 111 features"
   ]
  },
  {
   "cell_type": "markdown",
   "metadata": {},
   "source": [
    "À première vue beaucoup de colonnes avec uniquement des valeurs manquantes"
   ]
  },
  {
   "cell_type": "markdown",
   "metadata": {},
   "source": [
    "# Analyse du fond"
   ]
  },
  {
   "cell_type": "markdown",
   "metadata": {},
   "source": [
    "## Traitement des colonnes vides"
   ]
  },
  {
   "cell_type": "code",
   "execution_count": 4,
   "metadata": {},
   "outputs": [
    {
     "name": "stdout",
     "output_type": "stream",
     "text": [
      "Colonnes vides ou presque vides :\n",
      "Index(['Serum Glucose', 'Mycoplasma pneumoniae', 'Neutrophils', 'Urea',\n",
      "       'Proteina C reativa mg/dL', 'Creatinine', 'Potassium', 'Sodium',\n",
      "       'Alanine transaminase', 'Aspartate transaminase',\n",
      "       'Gamma-glutamyltransferase ', 'Total Bilirubin', 'Direct Bilirubin',\n",
      "       'Indirect Bilirubin', 'Alkaline phosphatase', 'Ionized calcium ',\n",
      "       'Strepto A', 'Magnesium', 'pCO2 (venous blood gas analysis)',\n",
      "       'Hb saturation (venous blood gas analysis)',\n",
      "       'Base excess (venous blood gas analysis)',\n",
      "       'pO2 (venous blood gas analysis)', 'Fio2 (venous blood gas analysis)',\n",
      "       'Total CO2 (venous blood gas analysis)',\n",
      "       'pH (venous blood gas analysis)', 'HCO3 (venous blood gas analysis)',\n",
      "       'Rods #', 'Segmented', 'Promyelocytes', 'Metamyelocytes', 'Myelocytes',\n",
      "       'Myeloblasts', 'Urine - Esterase', 'Urine - Aspect', 'Urine - pH',\n",
      "       'Urine - Hemoglobin', 'Urine - Bile pigments', 'Urine - Ketone Bodies',\n",
      "       'Urine - Nitrite', 'Urine - Density', 'Urine - Urobilinogen',\n",
      "       'Urine - Protein', 'Urine - Sugar', 'Urine - Leukocytes',\n",
      "       'Urine - Crystals', 'Urine - Red blood cells',\n",
      "       'Urine - Hyaline cylinders', 'Urine - Granular cylinders',\n",
      "       'Urine - Yeasts', 'Urine - Color', 'Partial thromboplastin time (PTT) ',\n",
      "       'Relationship (Patient/Normal)', 'International normalized ratio (INR)',\n",
      "       'Lactic Dehydrogenase', 'Prothrombin time (PT), Activity',\n",
      "       'Vitamin B12', 'Creatine phosphokinase (CPK) ', 'Ferritin',\n",
      "       'Arterial Lactic Acid', 'Lipase dosage', 'D-Dimer', 'Albumin',\n",
      "       'Hb saturation (arterial blood gases)',\n",
      "       'pCO2 (arterial blood gas analysis)',\n",
      "       'Base excess (arterial blood gas analysis)',\n",
      "       'pH (arterial blood gas analysis)',\n",
      "       'Total CO2 (arterial blood gas analysis)',\n",
      "       'HCO3 (arterial blood gas analysis)',\n",
      "       'pO2 (arterial blood gas analysis)', 'Arteiral Fio2', 'Phosphor',\n",
      "       'ctO2 (arterial blood gas analysis)'],\n",
      "      dtype='object')\n",
      "Pourcentage de valeurs manquantes pour ces colonnes :\n",
      "Serum Glucose                          96.314670\n",
      "Mycoplasma pneumoniae                 100.000000\n",
      "Neutrophils                            90.910702\n",
      "Urea                                   92.965982\n",
      "Proteina C reativa mg/dL               91.034727\n",
      "                                         ...    \n",
      "HCO3 (arterial blood gas analysis)     99.521616\n",
      "pO2 (arterial blood gas analysis)      99.521616\n",
      "Arteiral Fio2                          99.645641\n",
      "Phosphor                               99.645641\n",
      "ctO2 (arterial blood gas analysis)     99.521616\n",
      "Length: 72, dtype: float64\n"
     ]
    }
   ],
   "source": [
    "# Calculer le pourcentage de valeurs manquantes pour chaque colonne\n",
    "missing_percentage = dataset.isnull().mean() * 100\n",
    "\n",
    "# Définir un seuil pour considérer une colonne comme vide ou presque vide\n",
    "threshold = 90\n",
    "\n",
    "# Identifier les colonnes ayant plus de `threshold`% de valeurs manquantes\n",
    "empty_columns = missing_percentage[missing_percentage > threshold].index\n",
    "\n",
    "print(\"Colonnes vides ou presque vides :\")\n",
    "print(empty_columns)\n",
    "\n",
    "# Afficher le pourcentage de valeurs manquantes pour ces colonnes\n",
    "print(\"Pourcentage de valeurs manquantes pour ces colonnes :\")\n",
    "print(missing_percentage[empty_columns])"
   ]
  },
  {
   "cell_type": "code",
   "execution_count": 5,
   "metadata": {},
   "outputs": [
    {
     "name": "stdout",
     "output_type": "stream",
     "text": [
      "Dimensions du dataset nettoyé : (5644, 39)\n"
     ]
    }
   ],
   "source": [
    "# Supprimer ces colonnes du dataset\n",
    "dataset = dataset.drop(columns=empty_columns)\n",
    "\n",
    "# Afficher les dimensions du dataset avant et après le nettoyage\n",
    "print(\"Dimensions du dataset nettoyé :\", dataset.shape)"
   ]
  },
  {
   "cell_type": "code",
   "execution_count": 6,
   "metadata": {},
   "outputs": [
    {
     "name": "stdout",
     "output_type": "stream",
     "text": [
      "Colonnes plus de la moitié sont vides :\n",
      "Index(['Hematocrit', 'Hemoglobin', 'Platelets', 'Mean platelet volume ',\n",
      "       'Red blood Cells', 'Lymphocytes',\n",
      "       'Mean corpuscular hemoglobin concentration (MCHC)', 'Leukocytes',\n",
      "       'Basophils', 'Mean corpuscular hemoglobin (MCH)', 'Eosinophils',\n",
      "       'Mean corpuscular volume (MCV)', 'Monocytes',\n",
      "       'Red blood cell distribution width (RDW)',\n",
      "       'Respiratory Syncytial Virus', 'Influenza A', 'Influenza B',\n",
      "       'Parainfluenza 1', 'CoronavirusNL63', 'Rhinovirus/Enterovirus',\n",
      "       'Coronavirus HKU1', 'Parainfluenza 3', 'Chlamydophila pneumoniae',\n",
      "       'Adenovirus', 'Parainfluenza 4', 'Coronavirus229E', 'CoronavirusOC43',\n",
      "       'Inf A H1N1 2009', 'Bordetella pertussis', 'Metapneumovirus',\n",
      "       'Parainfluenza 2', 'Influenza B, rapid test',\n",
      "       'Influenza A, rapid test'],\n",
      "      dtype='object')\n",
      "Pourcentage de valeurs manquantes pour ces colonnes :\n",
      "Hematocrit                                          89.316088\n",
      "Hemoglobin                                          89.316088\n",
      "Platelets                                           89.333806\n",
      "Mean platelet volume                                89.386960\n",
      "Red blood Cells                                     89.333806\n",
      "Lymphocytes                                         89.333806\n",
      "Mean corpuscular hemoglobin concentration (MCHC)    89.333806\n",
      "Leukocytes                                          89.333806\n",
      "Basophils                                           89.333806\n",
      "Mean corpuscular hemoglobin (MCH)                   89.333806\n",
      "Eosinophils                                         89.333806\n",
      "Mean corpuscular volume (MCV)                       89.333806\n",
      "Monocytes                                           89.351524\n",
      "Red blood cell distribution width (RDW)             89.333806\n",
      "Respiratory Syncytial Virus                         76.009922\n",
      "Influenza A                                         76.009922\n",
      "Influenza B                                         76.009922\n",
      "Parainfluenza 1                                     76.045358\n",
      "CoronavirusNL63                                     76.045358\n",
      "Rhinovirus/Enterovirus                              76.045358\n",
      "Coronavirus HKU1                                    76.045358\n",
      "Parainfluenza 3                                     76.045358\n",
      "Chlamydophila pneumoniae                            76.045358\n",
      "Adenovirus                                          76.045358\n",
      "Parainfluenza 4                                     76.045358\n",
      "Coronavirus229E                                     76.045358\n",
      "CoronavirusOC43                                     76.045358\n",
      "Inf A H1N1 2009                                     76.045358\n",
      "Bordetella pertussis                                76.045358\n",
      "Metapneumovirus                                     76.045358\n",
      "Parainfluenza 2                                     76.045358\n",
      "Influenza B, rapid test                             85.471297\n",
      "Influenza A, rapid test                             85.471297\n",
      "dtype: float64\n"
     ]
    }
   ],
   "source": [
    "# Calculer le pourcentage de valeurs manquantes pour chaque colonne\n",
    "missing_percentage = dataset.isnull().mean() * 100\n",
    "\n",
    "# Cette fois on va mettre le seuil à 50% histoire de voir si il y a d'autres colonnes plutôt vides\n",
    "threshold = 50\n",
    "\n",
    "# Identifier les colonnes ayant plus de `threshold`% de valeurs manquantes\n",
    "empty_columns = missing_percentage[missing_percentage > threshold].index\n",
    "\n",
    "print(\"Colonnes plus de la moitié sont vides :\")\n",
    "print(empty_columns)\n",
    "\n",
    "# Afficher le pourcentage de valeurs manquantes pour ces colonnes\n",
    "print(\"Pourcentage de valeurs manquantes pour ces colonnes :\")\n",
    "print(missing_percentage[empty_columns])"
   ]
  },
  {
   "cell_type": "markdown",
   "metadata": {},
   "source": [
    "Super on voit que si on mettait notre seuil pour considérer une colonne vide à 75% de vide on virerait toutes les colonnes vides, du moins toutes celles qui ont + de 50% de leurs données manquantes. Donc go le faire"
   ]
  },
  {
   "cell_type": "code",
   "execution_count": 7,
   "metadata": {},
   "outputs": [
    {
     "name": "stdout",
     "output_type": "stream",
     "text": [
      "Dimensions du dataset nettoyé : (5644, 6)\n"
     ]
    }
   ],
   "source": [
    "# Supprimer ces colonnes du dataset\n",
    "dataset = dataset.drop(columns=empty_columns)\n",
    "\n",
    "# Afficher les dimensions du dataset avant et après le nettoyage\n",
    "print(\"Dimensions du dataset nettoyé :\", dataset.shape)\n",
    "print(dataset.head)"
   ]
  }
 ],
 "metadata": {
  "colab": {
   "authorship_tag": "ABX9TyPR1U8M7FFMUXY3LrCtpzUF",
   "include_colab_link": true,
   "name": "Untitled5.ipynb",
   "provenance": []
  },
  "kernelspec": {
   "display_name": "Python 3 (ipykernel)",
   "language": "python",
   "name": "python3"
  },
  "language_info": {
   "codemirror_mode": {
    "name": "ipython",
    "version": 3
   },
   "file_extension": ".py",
   "mimetype": "text/x-python",
   "name": "python",
   "nbconvert_exporter": "python",
   "pygments_lexer": "ipython3",
   "version": "3.11.3"
  }
 },
 "nbformat": 4,
 "nbformat_minor": 1
}
